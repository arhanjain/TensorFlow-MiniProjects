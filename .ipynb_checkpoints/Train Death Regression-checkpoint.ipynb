{
 "cells": [
  {
   "cell_type": "code",
   "execution_count": 1,
   "metadata": {},
   "outputs": [],
   "source": [
    "import tensorflow as tf\n",
    "import pandas as pd"
   ]
  },
  {
   "cell_type": "code",
   "execution_count": 2,
   "metadata": {
    "scrolled": true
   },
   "outputs": [
    {
     "name": "stdout",
     "output_type": "stream",
     "text": [
      "        sex   age  n_siblings_spouses  parch     fare   class     deck  \\\n",
      "0      male  22.0                   1      0   7.2500   Third  unknown   \n",
      "1    female  38.0                   1      0  71.2833   First        C   \n",
      "2    female  26.0                   0      0   7.9250   Third  unknown   \n",
      "3    female  35.0                   1      0  53.1000   First        C   \n",
      "4      male  28.0                   0      0   8.4583   Third  unknown   \n",
      "..      ...   ...                 ...    ...      ...     ...      ...   \n",
      "622    male  28.0                   0      0  10.5000  Second  unknown   \n",
      "623    male  25.0                   0      0   7.0500   Third  unknown   \n",
      "624  female  19.0                   0      0  30.0000   First        B   \n",
      "625  female  28.0                   1      2  23.4500   Third  unknown   \n",
      "626    male  32.0                   0      0   7.7500   Third  unknown   \n",
      "\n",
      "     embark_town alone  \n",
      "0    Southampton     n  \n",
      "1      Cherbourg     n  \n",
      "2    Southampton     y  \n",
      "3    Southampton     n  \n",
      "4     Queenstown     y  \n",
      "..           ...   ...  \n",
      "622  Southampton     y  \n",
      "623  Southampton     y  \n",
      "624  Southampton     y  \n",
      "625  Southampton     n  \n",
      "626   Queenstown     y  \n",
      "\n",
      "[627 rows x 9 columns]\n"
     ]
    }
   ],
   "source": [
    "training_set = pd.read_csv(r\"C:\\Users\\jmamt\\Downloads\\train.csv\")\n",
    "test_set = pd.read_csv(r\"C:\\Users\\jmamt\\Downloads\\eval.csv\")\n",
    "\n",
    "training_results = training_set.pop(\"survived\")\n",
    "test_results = test_set.pop(\"survived\")\n",
    "print(training_set)"
   ]
  },
  {
   "cell_type": "code",
   "execution_count": 3,
   "metadata": {},
   "outputs": [
    {
     "name": "stdout",
     "output_type": "stream",
     "text": [
      "[VocabularyListCategoricalColumn(key='sex', vocabulary_list=('male', 'female'), dtype=tf.string, default_value=-1, num_oov_buckets=0), VocabularyListCategoricalColumn(key='class', vocabulary_list=('Third', 'First', 'Second'), dtype=tf.string, default_value=-1, num_oov_buckets=0), VocabularyListCategoricalColumn(key='deck', vocabulary_list=('unknown', 'C', 'G', 'A', 'B', 'D', 'F', 'E'), dtype=tf.string, default_value=-1, num_oov_buckets=0), VocabularyListCategoricalColumn(key='embark_town', vocabulary_list=('Southampton', 'Cherbourg', 'Queenstown', 'unknown'), dtype=tf.string, default_value=-1, num_oov_buckets=0), VocabularyListCategoricalColumn(key='alone', vocabulary_list=('n', 'y'), dtype=tf.string, default_value=-1, num_oov_buckets=0), NumericColumn(key='age', shape=(1,), default_value=None, dtype=tf.float32, normalizer_fn=None), NumericColumn(key='n_siblings_spouses', shape=(1,), default_value=None, dtype=tf.float32, normalizer_fn=None), NumericColumn(key='parch', shape=(1,), default_value=None, dtype=tf.float32, normalizer_fn=None), NumericColumn(key='fare', shape=(1,), default_value=None, dtype=tf.float32, normalizer_fn=None)]\n"
     ]
    }
   ],
   "source": [
    "#Make all the parameters numerical\n",
    "\n",
    "numerical_columns = [\"age\", \"n_siblings_spouses\", \"parch\", \"fare\"]\n",
    "categorical_columns = [\"sex\", \"class\", \"deck\", \"embark_town\", \"alone\"]\n",
    "\n",
    "trueFeatures = []\n",
    "\n",
    "for categFeature in categorical_columns:\n",
    "    uniqueVals = training_set[categFeature].unique()\n",
    "    trueFeatures.append(tf.feature_column.categorical_column_with_vocabulary_list(categFeature, uniqueVals))\n",
    "    \n",
    "for numFeatures in numerical_columns:\n",
    "    trueFeatures.append(tf.feature_column.numeric_column(numFeatures, dtype=tf.float32))\n",
    "    \n",
    "print(trueFeatures)"
   ]
  },
  {
   "cell_type": "code",
   "execution_count": 4,
   "metadata": {},
   "outputs": [
    {
     "ename": "SyntaxError",
     "evalue": "invalid syntax (<ipython-input-4-37d88e6e4857>, line 3)",
     "output_type": "error",
     "traceback": [
      "\u001b[1;36m  File \u001b[1;32m\"<ipython-input-4-37d88e6e4857>\"\u001b[1;36m, line \u001b[1;32m3\u001b[0m\n\u001b[1;33m    def makeInputFunc()\u001b[0m\n\u001b[1;37m                       ^\u001b[0m\n\u001b[1;31mSyntaxError\u001b[0m\u001b[1;31m:\u001b[0m invalid syntax\n"
     ]
    }
   ],
   "source": [
    "#Create epochs and send in batchs of data to train to\n",
    "\n",
    "def makeInputFunc(rawData, ylabels, epochs=20, batchSize=50):\n",
    "    def inputFunc():\n",
    "        data = tf.data.Dataset.from_tensor_slices(dict(train))"
   ]
  },
  {
   "cell_type": "code",
   "execution_count": 6,
   "metadata": {},
   "outputs": [
    {
     "name": "stdout",
     "output_type": "stream",
     "text": [
      "{'sex': 0        male\n",
      "1      female\n",
      "2      female\n",
      "3      female\n",
      "4        male\n",
      "        ...  \n",
      "622      male\n",
      "623      male\n",
      "624    female\n",
      "625    female\n",
      "626      male\n",
      "Name: sex, Length: 627, dtype: object, 'age': 0      22.0\n",
      "1      38.0\n",
      "2      26.0\n",
      "3      35.0\n",
      "4      28.0\n",
      "       ... \n",
      "622    28.0\n",
      "623    25.0\n",
      "624    19.0\n",
      "625    28.0\n",
      "626    32.0\n",
      "Name: age, Length: 627, dtype: float64, 'n_siblings_spouses': 0      1\n",
      "1      1\n",
      "2      0\n",
      "3      1\n",
      "4      0\n",
      "      ..\n",
      "622    0\n",
      "623    0\n",
      "624    0\n",
      "625    1\n",
      "626    0\n",
      "Name: n_siblings_spouses, Length: 627, dtype: int64, 'parch': 0      0\n",
      "1      0\n",
      "2      0\n",
      "3      0\n",
      "4      0\n",
      "      ..\n",
      "622    0\n",
      "623    0\n",
      "624    0\n",
      "625    2\n",
      "626    0\n",
      "Name: parch, Length: 627, dtype: int64, 'fare': 0       7.2500\n",
      "1      71.2833\n",
      "2       7.9250\n",
      "3      53.1000\n",
      "4       8.4583\n",
      "        ...   \n",
      "622    10.5000\n",
      "623     7.0500\n",
      "624    30.0000\n",
      "625    23.4500\n",
      "626     7.7500\n",
      "Name: fare, Length: 627, dtype: float64, 'class': 0       Third\n",
      "1       First\n",
      "2       Third\n",
      "3       First\n",
      "4       Third\n",
      "        ...  \n",
      "622    Second\n",
      "623     Third\n",
      "624     First\n",
      "625     Third\n",
      "626     Third\n",
      "Name: class, Length: 627, dtype: object, 'deck': 0      unknown\n",
      "1            C\n",
      "2      unknown\n",
      "3            C\n",
      "4      unknown\n",
      "        ...   \n",
      "622    unknown\n",
      "623    unknown\n",
      "624          B\n",
      "625    unknown\n",
      "626    unknown\n",
      "Name: deck, Length: 627, dtype: object, 'embark_town': 0      Southampton\n",
      "1        Cherbourg\n",
      "2      Southampton\n",
      "3      Southampton\n",
      "4       Queenstown\n",
      "          ...     \n",
      "622    Southampton\n",
      "623    Southampton\n",
      "624    Southampton\n",
      "625    Southampton\n",
      "626     Queenstown\n",
      "Name: embark_town, Length: 627, dtype: object, 'alone': 0      n\n",
      "1      n\n",
      "2      y\n",
      "3      n\n",
      "4      y\n",
      "      ..\n",
      "622    y\n",
      "623    y\n",
      "624    y\n",
      "625    n\n",
      "626    y\n",
      "Name: alone, Length: 627, dtype: object}\n",
      "[VocabularyListCategoricalColumn(key='sex', vocabulary_list=('male', 'female'), dtype=tf.string, default_value=-1, num_oov_buckets=0), VocabularyListCategoricalColumn(key='class', vocabulary_list=('Third', 'First', 'Second'), dtype=tf.string, default_value=-1, num_oov_buckets=0), VocabularyListCategoricalColumn(key='deck', vocabulary_list=('unknown', 'C', 'G', 'A', 'B', 'D', 'F', 'E'), dtype=tf.string, default_value=-1, num_oov_buckets=0), VocabularyListCategoricalColumn(key='embark_town', vocabulary_list=('Southampton', 'Cherbourg', 'Queenstown', 'unknown'), dtype=tf.string, default_value=-1, num_oov_buckets=0), VocabularyListCategoricalColumn(key='alone', vocabulary_list=('n', 'y'), dtype=tf.string, default_value=-1, num_oov_buckets=0), NumericColumn(key='age', shape=(1,), default_value=None, dtype=tf.float32, normalizer_fn=None), NumericColumn(key='n_siblings_spouses', shape=(1,), default_value=None, dtype=tf.float32, normalizer_fn=None), NumericColumn(key='parch', shape=(1,), default_value=None, dtype=tf.float32, normalizer_fn=None), NumericColumn(key='fare', shape=(1,), default_value=None, dtype=tf.float32, normalizer_fn=None)]\n"
     ]
    }
   ],
   "source": [
    "print(dict(training_set))\n",
    "print(trueFeatures)"
   ]
  },
  {
   "cell_type": "code",
   "execution_count": null,
   "metadata": {},
   "outputs": [],
   "source": []
  }
 ],
 "metadata": {
  "kernelspec": {
   "display_name": "Python 3",
   "language": "python",
   "name": "python3"
  },
  "language_info": {
   "codemirror_mode": {
    "name": "ipython",
    "version": 3
   },
   "file_extension": ".py",
   "mimetype": "text/x-python",
   "name": "python",
   "nbconvert_exporter": "python",
   "pygments_lexer": "ipython3",
   "version": "3.8.3"
  }
 },
 "nbformat": 4,
 "nbformat_minor": 4
}
