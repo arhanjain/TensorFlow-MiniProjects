{
 "cells": [
  {
   "cell_type": "code",
   "execution_count": 1,
   "metadata": {},
   "outputs": [],
   "source": [
    "import numpy as np\n",
    "import pandas as pd\n",
    "import matplotlib.pyplot as plt\n",
    "import tensorflow as tf"
   ]
  },
  {
   "cell_type": "code",
   "execution_count": 2,
   "metadata": {
    "scrolled": true
   },
   "outputs": [
    {
     "name": "stdout",
     "output_type": "stream",
     "text": [
      "        sex   age  n_siblings_spouses  parch     fare   class     deck  \\\n",
      "0      male  22.0                   1      0   7.2500   Third  unknown   \n",
      "1    female  38.0                   1      0  71.2833   First        C   \n",
      "2    female  26.0                   0      0   7.9250   Third  unknown   \n",
      "3    female  35.0                   1      0  53.1000   First        C   \n",
      "4      male  28.0                   0      0   8.4583   Third  unknown   \n",
      "..      ...   ...                 ...    ...      ...     ...      ...   \n",
      "622    male  28.0                   0      0  10.5000  Second  unknown   \n",
      "623    male  25.0                   0      0   7.0500   Third  unknown   \n",
      "624  female  19.0                   0      0  30.0000   First        B   \n",
      "625  female  28.0                   1      2  23.4500   Third  unknown   \n",
      "626    male  32.0                   0      0   7.7500   Third  unknown   \n",
      "\n",
      "     embark_town alone  \n",
      "0    Southampton     n  \n",
      "1      Cherbourg     n  \n",
      "2    Southampton     y  \n",
      "3    Southampton     n  \n",
      "4     Queenstown     y  \n",
      "..           ...   ...  \n",
      "622  Southampton     y  \n",
      "623  Southampton     y  \n",
      "624  Southampton     y  \n",
      "625  Southampton     n  \n",
      "626   Queenstown     y  \n",
      "\n",
      "[627 rows x 9 columns]\n"
     ]
    }
   ],
   "source": [
    "training_set = pd.read_csv(r\"C:\\Users\\jmamt\\Downloads\\train.csv\")\n",
    "test_set = pd.read_csv(r\"C:\\Users\\jmamt\\Downloads\\eval.csv\")\n",
    "\n",
    "training_results = training_set.pop(\"survived\")\n",
    "test_results = test_set.pop(\"survived\")\n",
    "print(training_set)"
   ]
  },
  {
   "cell_type": "code",
   "execution_count": 3,
   "metadata": {},
   "outputs": [
    {
     "name": "stdout",
     "output_type": "stream",
     "text": [
      "[VocabularyListCategoricalColumn(key='sex', vocabulary_list=('male', 'female'), dtype=tf.string, default_value=-1, num_oov_buckets=0), VocabularyListCategoricalColumn(key='n_siblings_spouses', vocabulary_list=(1, 0, 3, 4, 2, 5, 8), dtype=tf.int64, default_value=-1, num_oov_buckets=0), VocabularyListCategoricalColumn(key='parch', vocabulary_list=(0, 1, 2, 5, 3, 4), dtype=tf.int64, default_value=-1, num_oov_buckets=0), VocabularyListCategoricalColumn(key='class', vocabulary_list=('Third', 'First', 'Second'), dtype=tf.string, default_value=-1, num_oov_buckets=0), VocabularyListCategoricalColumn(key='deck', vocabulary_list=('unknown', 'C', 'G', 'A', 'B', 'D', 'F', 'E'), dtype=tf.string, default_value=-1, num_oov_buckets=0), VocabularyListCategoricalColumn(key='embark_town', vocabulary_list=('Southampton', 'Cherbourg', 'Queenstown', 'unknown'), dtype=tf.string, default_value=-1, num_oov_buckets=0), VocabularyListCategoricalColumn(key='alone', vocabulary_list=('n', 'y'), dtype=tf.string, default_value=-1, num_oov_buckets=0), NumericColumn(key='age', shape=(1,), default_value=None, dtype=tf.float32, normalizer_fn=None), NumericColumn(key='fare', shape=(1,), default_value=None, dtype=tf.float32, normalizer_fn=None)]\n"
     ]
    }
   ],
   "source": [
    "#Make all the parameters numerical\n",
    "\n",
    "numerical_columns = ['age', 'fare']\n",
    "categorical_columns = ['sex', 'n_siblings_spouses', 'parch', 'class', 'deck',\n",
    "                       'embark_town', 'alone']\n",
    "\n",
    "trueFeatures = []\n",
    "\n",
    "for categFeature in categorical_columns:\n",
    "    uniqueVals = training_set[categFeature].unique()\n",
    "    trueFeatures.append(tf.feature_column.categorical_column_with_vocabulary_list(categFeature, uniqueVals))\n",
    "    \n",
    "for numFeatures in numerical_columns:\n",
    "    trueFeatures.append(tf.feature_column.numeric_column(numFeatures, dtype=tf.float32))\n",
    "    \n",
    "print(trueFeatures)"
   ]
  },
  {
   "cell_type": "code",
   "execution_count": 4,
   "metadata": {},
   "outputs": [],
   "source": [
    "#Create epochs and send in batchs of data to train to\n",
    "\n",
    "def makeInputFunc(rawData, ylabels, epochs=20, batchSize=50):\n",
    "    def inputFunc():\n",
    "        print(rawData)\n",
    "        data = tf.data.Dataset.from_tensor_slices((dict(rawData), ylabels))\n",
    "        print(data)\n",
    "        data.shuffle(800)\n",
    "        data = data.batch(batchSize).repeat(epochs)\n",
    "        return data\n",
    "    return inputFunc\n",
    "\n",
    "trainingInputFunc = makeInputFunc(training_set, training_results)\n",
    "testInputFunc = makeInputFunc(test_set, test_results, epochs=1)"
   ]
  },
  {
   "cell_type": "code",
   "execution_count": 5,
   "metadata": {},
   "outputs": [
    {
     "name": "stdout",
     "output_type": "stream",
     "text": [
      "INFO:tensorflow:Using default config.\n",
      "WARNING:tensorflow:Using temporary folder as model directory: C:\\Users\\jmamt\\AppData\\Local\\Temp\\tmp14en9ofc\n",
      "INFO:tensorflow:Using config: {'_model_dir': 'C:\\\\Users\\\\jmamt\\\\AppData\\\\Local\\\\Temp\\\\tmp14en9ofc', '_tf_random_seed': None, '_save_summary_steps': 100, '_save_checkpoints_steps': None, '_save_checkpoints_secs': 600, '_session_config': allow_soft_placement: true\n",
      "graph_options {\n",
      "  rewrite_options {\n",
      "    meta_optimizer_iterations: ONE\n",
      "  }\n",
      "}\n",
      ", '_keep_checkpoint_max': 5, '_keep_checkpoint_every_n_hours': 10000, '_log_step_count_steps': 100, '_train_distribute': None, '_device_fn': None, '_protocol': None, '_eval_distribute': None, '_experimental_distribute': None, '_experimental_max_worker_delay_secs': None, '_session_creation_timeout_secs': 7200, '_checkpoint_save_graph_def': True, '_service': None, '_cluster_spec': ClusterSpec({}), '_task_type': 'worker', '_task_id': 0, '_global_id_in_cluster': 0, '_master': '', '_evaluation_master': '', '_is_chief': True, '_num_ps_replicas': 0, '_num_worker_replicas': 1}\n"
     ]
    }
   ],
   "source": [
    "#Create Linear Regression Model\n",
    "linearModel = tf.estimator.LinearClassifier(feature_columns=trueFeatures)"
   ]
  },
  {
   "cell_type": "code",
   "execution_count": 6,
   "metadata": {},
   "outputs": [
    {
     "name": "stdout",
     "output_type": "stream",
     "text": [
      "WARNING:tensorflow:From C:\\Users\\jmamt\\anaconda3\\lib\\site-packages\\tensorflow\\python\\training\\training_util.py:235: Variable.initialized_value (from tensorflow.python.ops.variables) is deprecated and will be removed in a future version.\n",
      "Instructions for updating:\n",
      "Use Variable.read_value. Variables in 2.X are initialized automatically both in eager and graph (inside tf.defun) contexts.\n",
      "        sex   age  n_siblings_spouses  parch     fare   class     deck  \\\n",
      "0      male  22.0                   1      0   7.2500   Third  unknown   \n",
      "1    female  38.0                   1      0  71.2833   First        C   \n",
      "2    female  26.0                   0      0   7.9250   Third  unknown   \n",
      "3    female  35.0                   1      0  53.1000   First        C   \n",
      "4      male  28.0                   0      0   8.4583   Third  unknown   \n",
      "..      ...   ...                 ...    ...      ...     ...      ...   \n",
      "622    male  28.0                   0      0  10.5000  Second  unknown   \n",
      "623    male  25.0                   0      0   7.0500   Third  unknown   \n",
      "624  female  19.0                   0      0  30.0000   First        B   \n",
      "625  female  28.0                   1      2  23.4500   Third  unknown   \n",
      "626    male  32.0                   0      0   7.7500   Third  unknown   \n",
      "\n",
      "     embark_town alone  \n",
      "0    Southampton     n  \n",
      "1      Cherbourg     n  \n",
      "2    Southampton     y  \n",
      "3    Southampton     n  \n",
      "4     Queenstown     y  \n",
      "..           ...   ...  \n",
      "622  Southampton     y  \n",
      "623  Southampton     y  \n",
      "624  Southampton     y  \n",
      "625  Southampton     n  \n",
      "626   Queenstown     y  \n",
      "\n",
      "[627 rows x 9 columns]\n",
      "<TensorSliceDataset shapes: ({sex: (), age: (), n_siblings_spouses: (), parch: (), fare: (), class: (), deck: (), embark_town: (), alone: ()}, ()), types: ({sex: tf.string, age: tf.float64, n_siblings_spouses: tf.int64, parch: tf.int64, fare: tf.float64, class: tf.string, deck: tf.string, embark_town: tf.string, alone: tf.string}, tf.int64)>\n",
      "INFO:tensorflow:Calling model_fn.\n"
     ]
    },
    {
     "name": "stderr",
     "output_type": "stream",
     "text": [
      "C:\\Users\\jmamt\\anaconda3\\lib\\site-packages\\tensorflow\\python\\keras\\engine\\base_layer_v1.py:1727: UserWarning: `layer.add_variable` is deprecated and will be removed in a future version. Please use `layer.add_weight` method instead.\n",
      "  warnings.warn('`layer.add_variable` is deprecated and '\n"
     ]
    },
    {
     "name": "stdout",
     "output_type": "stream",
     "text": [
      "WARNING:tensorflow:From C:\\Users\\jmamt\\anaconda3\\lib\\site-packages\\tensorflow\\python\\keras\\optimizer_v2\\ftrl.py:133: calling Constant.__init__ (from tensorflow.python.ops.init_ops) with dtype is deprecated and will be removed in a future version.\n",
      "Instructions for updating:\n",
      "Call initializer instance with the dtype argument instead of passing it to the constructor\n",
      "INFO:tensorflow:Done calling model_fn.\n",
      "INFO:tensorflow:Create CheckpointSaverHook.\n",
      "INFO:tensorflow:Graph was finalized.\n",
      "INFO:tensorflow:Running local_init_op.\n",
      "INFO:tensorflow:Done running local_init_op.\n",
      "INFO:tensorflow:Calling checkpoint listeners before saving checkpoint 0...\n",
      "INFO:tensorflow:Saving checkpoints for 0 into C:\\Users\\jmamt\\AppData\\Local\\Temp\\tmp14en9ofc\\model.ckpt.\n",
      "INFO:tensorflow:Calling checkpoint listeners after saving checkpoint 0...\n",
      "INFO:tensorflow:loss = 0.6931472, step = 0\n",
      "INFO:tensorflow:global_step/sec: 303.757\n",
      "INFO:tensorflow:loss = 0.48845103, step = 100 (0.330 sec)\n",
      "INFO:tensorflow:global_step/sec: 884.264\n",
      "INFO:tensorflow:loss = 0.43957475, step = 200 (0.113 sec)\n",
      "INFO:tensorflow:Calling checkpoint listeners before saving checkpoint 260...\n",
      "INFO:tensorflow:Saving checkpoints for 260 into C:\\Users\\jmamt\\AppData\\Local\\Temp\\tmp14en9ofc\\model.ckpt.\n",
      "INFO:tensorflow:Calling checkpoint listeners after saving checkpoint 260...\n",
      "INFO:tensorflow:Loss for final step: 0.30969435.\n",
      "        sex   age  n_siblings_spouses  parch     fare   class     deck  \\\n",
      "0      male  35.0                   0      0   8.0500   Third  unknown   \n",
      "1      male  54.0                   0      0  51.8625   First        E   \n",
      "2    female  58.0                   0      0  26.5500   First        C   \n",
      "3    female  55.0                   0      0  16.0000  Second  unknown   \n",
      "4      male  34.0                   0      0  13.0000  Second        D   \n",
      "..      ...   ...                 ...    ...      ...     ...      ...   \n",
      "259  female  25.0                   0      1  26.0000  Second  unknown   \n",
      "260    male  33.0                   0      0   7.8958   Third  unknown   \n",
      "261  female  39.0                   0      5  29.1250   Third  unknown   \n",
      "262    male  27.0                   0      0  13.0000  Second  unknown   \n",
      "263    male  26.0                   0      0  30.0000   First        C   \n",
      "\n",
      "     embark_town alone  \n",
      "0    Southampton     y  \n",
      "1    Southampton     y  \n",
      "2    Southampton     y  \n",
      "3    Southampton     y  \n",
      "4    Southampton     y  \n",
      "..           ...   ...  \n",
      "259  Southampton     n  \n",
      "260  Southampton     y  \n",
      "261   Queenstown     n  \n",
      "262  Southampton     y  \n",
      "263    Cherbourg     y  \n",
      "\n",
      "[264 rows x 9 columns]\n",
      "<TensorSliceDataset shapes: ({sex: (), age: (), n_siblings_spouses: (), parch: (), fare: (), class: (), deck: (), embark_town: (), alone: ()}, ()), types: ({sex: tf.string, age: tf.float64, n_siblings_spouses: tf.int64, parch: tf.int64, fare: tf.float64, class: tf.string, deck: tf.string, embark_town: tf.string, alone: tf.string}, tf.int64)>\n",
      "INFO:tensorflow:Calling model_fn.\n"
     ]
    },
    {
     "name": "stderr",
     "output_type": "stream",
     "text": [
      "C:\\Users\\jmamt\\anaconda3\\lib\\site-packages\\tensorflow\\python\\keras\\engine\\base_layer_v1.py:1727: UserWarning: `layer.add_variable` is deprecated and will be removed in a future version. Please use `layer.add_weight` method instead.\n",
      "  warnings.warn('`layer.add_variable` is deprecated and '\n"
     ]
    },
    {
     "name": "stdout",
     "output_type": "stream",
     "text": [
      "INFO:tensorflow:Done calling model_fn.\n",
      "INFO:tensorflow:Starting evaluation at 2021-02-12T00:03:48Z\n",
      "INFO:tensorflow:Graph was finalized.\n",
      "INFO:tensorflow:Restoring parameters from C:\\Users\\jmamt\\AppData\\Local\\Temp\\tmp14en9ofc\\model.ckpt-260\n",
      "INFO:tensorflow:Running local_init_op.\n",
      "INFO:tensorflow:Done running local_init_op.\n",
      "INFO:tensorflow:Inference Time : 0.87607s\n",
      "INFO:tensorflow:Finished evaluation at 2021-02-12-00:03:49\n",
      "INFO:tensorflow:Saving dict for global step 260: accuracy = 0.75, accuracy_baseline = 0.625, auc = 0.8344353, auc_precision_recall = 0.78861976, average_loss = 0.47256038, global_step = 260, label/mean = 0.375, loss = 0.47327444, precision = 0.6666667, prediction/mean = 0.3776001, recall = 0.6666667\n",
      "INFO:tensorflow:Saving 'checkpoint_path' summary for global step 260: C:\\Users\\jmamt\\AppData\\Local\\Temp\\tmp14en9ofc\\model.ckpt-260\n",
      "0.75\n"
     ]
    }
   ],
   "source": [
    "#Train Linear Regression Model\n",
    "linearModel.train(trainingInputFunc)\n",
    "result = linearModel.evaluate(testInputFunc)\n",
    "\n",
    "print(result['accuracy'])"
   ]
  },
  {
   "cell_type": "code",
   "execution_count": 7,
   "metadata": {
    "scrolled": true
   },
   "outputs": [
    {
     "name": "stdout",
     "output_type": "stream",
     "text": [
      "        sex   age  n_siblings_spouses  parch     fare   class     deck  \\\n",
      "0      male  35.0                   0      0   8.0500   Third  unknown   \n",
      "1      male  54.0                   0      0  51.8625   First        E   \n",
      "2    female  58.0                   0      0  26.5500   First        C   \n",
      "3    female  55.0                   0      0  16.0000  Second  unknown   \n",
      "4      male  34.0                   0      0  13.0000  Second        D   \n",
      "..      ...   ...                 ...    ...      ...     ...      ...   \n",
      "259  female  25.0                   0      1  26.0000  Second  unknown   \n",
      "260    male  33.0                   0      0   7.8958   Third  unknown   \n",
      "261  female  39.0                   0      5  29.1250   Third  unknown   \n",
      "262    male  27.0                   0      0  13.0000  Second  unknown   \n",
      "263    male  26.0                   0      0  30.0000   First        C   \n",
      "\n",
      "     embark_town alone  \n",
      "0    Southampton     y  \n",
      "1    Southampton     y  \n",
      "2    Southampton     y  \n",
      "3    Southampton     y  \n",
      "4    Southampton     y  \n",
      "..           ...   ...  \n",
      "259  Southampton     n  \n",
      "260  Southampton     y  \n",
      "261   Queenstown     n  \n",
      "262  Southampton     y  \n",
      "263    Cherbourg     y  \n",
      "\n",
      "[264 rows x 9 columns]\n",
      "<TensorSliceDataset shapes: ({sex: (), age: (), n_siblings_spouses: (), parch: (), fare: (), class: (), deck: (), embark_town: (), alone: ()}, ()), types: ({sex: tf.string, age: tf.float64, n_siblings_spouses: tf.int64, parch: tf.int64, fare: tf.float64, class: tf.string, deck: tf.string, embark_town: tf.string, alone: tf.string}, tf.int64)>\n",
      "INFO:tensorflow:Calling model_fn.\n"
     ]
    },
    {
     "name": "stderr",
     "output_type": "stream",
     "text": [
      "C:\\Users\\jmamt\\anaconda3\\lib\\site-packages\\tensorflow\\python\\keras\\engine\\base_layer_v1.py:1727: UserWarning: `layer.add_variable` is deprecated and will be removed in a future version. Please use `layer.add_weight` method instead.\n",
      "  warnings.warn('`layer.add_variable` is deprecated and '\n"
     ]
    },
    {
     "name": "stdout",
     "output_type": "stream",
     "text": [
      "INFO:tensorflow:Done calling model_fn.\n",
      "INFO:tensorflow:Graph was finalized.\n",
      "INFO:tensorflow:Restoring parameters from C:\\Users\\jmamt\\AppData\\Local\\Temp\\tmp14en9ofc\\model.ckpt-260\n",
      "INFO:tensorflow:Running local_init_op.\n",
      "INFO:tensorflow:Done running local_init_op.\n"
     ]
    },
    {
     "data": {
      "text/plain": [
       "<matplotlib.axes._subplots.AxesSubplot at 0x119f1fc65b0>"
      ]
     },
     "execution_count": 7,
     "metadata": {},
     "output_type": "execute_result"
    },
    {
     "data": {
      "image/png": "[encoded data removed]",
      "text/plain": [
       "<Figure size 432x288 with 1 Axes>"
      ]
     },
     "metadata": {
      "needs_background": "light"
     },
     "output_type": "display_data"
    }
   ],
   "source": [
    "pred_dicts = list(linearModel.predict(testInputFunc))\n",
    "probs = pd.Series([pred['probabilities'][1] for pred in pred_dicts])\n",
    "\n",
    "probs.plot(kind='hist', bins=20, title='predicted probabilities')"
   ]
  },
  {
   "cell_type": "code",
   "execution_count": null,
   "metadata": {},
   "outputs": [],
   "source": []
  }
 ],
 "metadata": {
  "kernelspec": {
   "display_name": "Python 3",
   "language": "python",
   "name": "python3"
  },
  "language_info": {
   "codemirror_mode": {
    "name": "ipython",
    "version": 3
   },
   "file_extension": ".py",
   "mimetype": "text/x-python",
   "name": "python",
   "nbconvert_exporter": "python",
   "pygments_lexer": "ipython3",
   "version": "3.8.3"
  }
 },
 "nbformat": 4,
 "nbformat_minor": 4
}
